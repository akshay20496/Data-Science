{
 "cells": [
  {
   "cell_type": "markdown",
   "metadata": {},
   "source": [
    "### Q.1. What is Statistics?"
   ]
  },
  {
   "cell_type": "markdown",
   "metadata": {},
   "source": [
    "Statistics is the science of collecting, organizing and analyzing the data."
   ]
  },
  {
   "cell_type": "markdown",
   "metadata": {},
   "source": [
    "### Q.2. Define the different types of statistics and give an example of when each type might be used."
   ]
  },
  {
   "cell_type": "markdown",
   "metadata": {},
   "source": [
    "Types of statistics :\n",
    "\n",
    "1. Descriptive Statistics :\n",
    "\n",
    "Defination : It consists of organizing and summerizing the data. \n",
    "\n",
    "Example : Let say 50 students in math class in the university. We collected the heights of 50 students in class.\n",
    "height data = [175,170,180,165,170,170,160,170,..........]\n",
    "Now we are having some descriptive questions from this given problem statement.\n",
    "\n",
    "1) What is the average height of the students in a class..??\n",
    "     avg or mean = [175 + 170 + ................]/50\n",
    "     \n",
    "2) What is the most common height of students..?? \n",
    "     Answer = 170\n",
    "     \n",
    "This way we create more questions to get descriptive information. \n",
    "\n",
    "2. Inferential Statistics :\n",
    "\n",
    "Defination : It consists of using data you have measured to form conclusions. By performing different experiments on sample data, we make conclusions with respect to population data. \n",
    "\n",
    "Example : Is the average height of the students in the classroom similar to what you expect in the entire college..??\n",
    "let, total students in entire college = 1000  \n",
    "This data 1000 students is known as Population data.\n",
    "We took 50 students height data from one class and this data is called as Sample data. \n",
    "We are getting average height from given sample data and make conclusions about the average height of students in entire college. "
   ]
  },
  {
   "cell_type": "markdown",
   "metadata": {},
   "source": [
    "### Q.3.  What are the different types of data and how do they differ from each other? Provide an example of each type of data."
   ]
  },
  {
   "cell_type": "markdown",
   "metadata": {},
   "source": [
    "Types of Data :\n",
    "\n",
    "1. Quantitative Data : It involves numerical data. It consists of two types.\n",
    "\n",
    "I) Discrete Data : It can take only descrete values. It can be counted in whole numbers with a specific range. \n",
    "\n",
    "Examples : 1) number of bank accounts - We have 2 bank accounts or 3 bank accounts but you don't have 2.5 or 3.5 bank accounts.\n",
    "\n",
    "          2) number of apps we used in our mobile\n",
    "           \n",
    "II) Continuous Data : It may have any values that can be selected within a given specific range.\n",
    "\n",
    "Examples : 1) Weight - 70kg, 70.5kg, 71kg, 68.5kg, ............\n",
    "\n",
    "          2) Temperature - 40°C, 40.5°C, 27.4°C, 33.4°C, ..............\n",
    "           \n",
    "2. Qualitative Data : It is also known as Categorical Data. It describes the data that fits into categories. When we talk about                       categorical data then there will be fix set of categories in our dataset. It consists of two types.\n",
    "\n",
    "I) Nominal Data : It is the data that can labelled or classified into mutually exclusive categories within a variable.\n",
    "\n",
    "Examples : 1) Gender (Male, Female)\n",
    "\n",
    "          2) Color of Eyes (Blue, Green, Black, Brown)\n",
    "           \n",
    "II) Ordinal Data : For ordinal data, we basically consider rank of the different categories. Means we differentiate all                            categories of ordinal data with the help of rank. \n",
    "\n",
    "Example : 1) Customer reviews app : Good - First Rank, Bad - Third Rank, Satisfactory - Second Rank"
   ]
  },
  {
   "cell_type": "markdown",
   "metadata": {},
   "source": [
    "### Q.4. Categorise the following datasets with respect to quantitative and qualitative data types:\n",
    "\n",
    "### (i)\tGrading in exam: A+, A, B+, B, C+, C, D, E\n",
    "\n",
    "### (ii)\tColour of mangoes: yellow, green, orange, red\n",
    "\n",
    "### (iii)\tHeight data of a class: [178.9, 179, 179.5, 176, 177.2, 178.3, 175.8,...]\n",
    "\n",
    "### (iv)\tNumber of mangoes exported by a farm: [500, 600, 478, 672, …]"
   ]
  },
  {
   "cell_type": "markdown",
   "metadata": {},
   "source": [
    "(i) Grading in exam: A+, A, B+, B, C+, C, D, E\n",
    "\n",
    "Above data is Nominal Data which is type of Qualitative Data."
   ]
  },
  {
   "cell_type": "markdown",
   "metadata": {},
   "source": [
    "(ii) Colour of mangoes: yellow, green, orange, red\n",
    "    \n",
    "Above data is Nominal Data which is type of Qualitative Data."
   ]
  },
  {
   "cell_type": "markdown",
   "metadata": {},
   "source": [
    "(iii) Height data of a class: [178.9, 179, 179.5, 176, 177.2, 178.3, 175.8,...]\n",
    "\n",
    "Above data is Continuous Data which is type of Quantitative Data."
   ]
  },
  {
   "cell_type": "markdown",
   "metadata": {},
   "source": [
    "(iv) Number of mangoes exported by a farm: [500, 600, 478, 672, …]\n",
    "\n",
    "Above data is Discrete Data which is type of Quantitative Data."
   ]
  },
  {
   "cell_type": "markdown",
   "metadata": {},
   "source": [
    "### Q.5. Explain the concept of levels of measurement and give an example of a variable for each level."
   ]
  },
  {
   "cell_type": "markdown",
   "metadata": {},
   "source": [
    "Level of measurement :\n",
    "\n",
    "Level of measurement is also known as Scale of measurement. It determines the nature and properties of data and influence the types of statistical analysis that can be performed on data. There are four main levels of measurement, each with its own unique characteristics and rules. These levels, in ascending order of complexity and informativeness, are:\n",
    "\n",
    "1. Nominal Level of Measurement :\n",
    "\n",
    "\n",
    "- This is the simplest level of measurement.\n",
    "\n",
    "\n",
    "- Variables at this level are categorical and can only be classified into different categories or groups.\n",
    "\n",
    "\n",
    "- Data at the nominal level do not have a meaningful order or rank.\n",
    "\n",
    "\n",
    "- Examples: Gender (male, female), Eye color (blue, brown, green), Marital status (single, married, divorced).\n",
    "\n",
    "\n",
    "2. Ordinal Level of Measurement:\n",
    "\n",
    "\n",
    "- Variables at this level can be categorized into groups, and their values can be ranked in order of importance, but the differences between the categories are not uniform or meaningful.\n",
    "\n",
    "\n",
    "- The intervals between the categories are not consistent.\n",
    "\n",
    "\n",
    "- Examples: Educational level (high school diploma - 4th rank, bachelor's degree - 3rd rank, master's degree - 2nd rank, phd. - 1st rank), Customer satisfaction ratings (worse - 5th rank, poor - 4th rank, fair - 3rd rank, good - 2nd rank, excellent - 1st rank).\n",
    "\n",
    "\n",
    "3. Interval Level of Measurement:\n",
    "\n",
    "\n",
    "- At this level, data can be categorized, ranked, and measured with equal intervals between values. Means here rank and order matter.\n",
    "\n",
    "\n",
    "- There is no \"true\" zero point, meaning that a value of zero does not represent the absence of the attribute being measured. That means it does not have 0 starting value. \n",
    "\n",
    "\n",
    "- Arithmetic operations such as addition and subtraction can be performed on interval data, but multiplication and division are not meaningful.\n",
    "\n",
    "\n",
    "- Examples: Temperature in Celsius or Fahrenheit, IQ scores, Likert scale ratings.\n",
    "\n",
    "\n",
    "4. Ratio Level of Measurement:\n",
    "\n",
    "\n",
    "- Variables at this level have all the characteristics of interval data, but they also have a true zero point, which signifies the complete absence of the attribute being measured. Rank and order matter. Differences and ratio are measurable. It does have 0 starting point. \n",
    "\n",
    "\n",
    "- All arithmetic operations (addition, subtraction, multiplication, division) are meaningful for ratio data.\n",
    "\n",
    "\n",
    "- Examples: Age (measured in years), Height (measured in inches or centimeters), Income (measured in dollars), Weight (measured in pounds or kilograms), time (measured in seconds)."
   ]
  },
  {
   "cell_type": "markdown",
   "metadata": {},
   "source": [
    "### Q.6. Why is it important to understand the level of measurement when analyzing data? Provide an example to illustrate your answer."
   ]
  },
  {
   "cell_type": "markdown",
   "metadata": {},
   "source": [
    "Understanding the level of measurement is critically important when analyzing data because it dictates the types of statistical operations that can be performed on the data and the meaningfulness of various statistical techniques. Here are a few reasons why it's crucial to consider the level of measurement:\n",
    "\n",
    "\n",
    "1. Appropriate Statistical Analysis: \n",
    "\n",
    "\n",
    "- The level of measurement determines which statistical analyses are appropriate. Using an incorrect analysis for the level of measurement can lead to invalid or misleading results. \n",
    "\n",
    "\n",
    "- For example: If you have nominal data (e.g., eye color) and you treat it as interval or ratio data, it may lead to incorrect interpretations and statistical tests.\n",
    "\n",
    "\n",
    "2. Meaningful Arithmetic Operations: \n",
    "\n",
    "\n",
    "- The level of measurement dictates the meaningfulness of arithmetic operations. With interval and ratio data, you can perform addition, subtraction, multiplication, and division, which is essential for various statistical calculations. However, you cannot perform these operations with nominal or ordinal data.\n",
    "\n",
    "\n",
    "- Example: If you have data on temperatures in Celsius (interval data), you can accurately calculate the difference between 20°C and 30°C (10°C). But for ordinal data like customer satisfaction ratings (e.g., good to excellent), calculating the difference between \"good\" and \"excellent\" does not provide a meaningful value.\n",
    "\n",
    "\n",
    "3. Understanding Scale Properties: \n",
    "\n",
    "\n",
    "- Recognizing the level of measurement helps in understanding the scale properties. For ratio data, a value of zero means the complete absence of the attribute, while for interval data, zero does not indicate the absence of the attribute. This distinction is crucial for interpreting and comparing data.\n",
    "\n",
    "\n",
    "- Example: When measuring income (ratio data), an income of $0 implies no income. However, in the case of IQ scores (interval data), an IQ score of 0 doesn't mean someone has no intelligence; it's just a reference point for the scale.\n",
    "\n",
    "\n",
    "4. Variable Interpretation: \n",
    "\n",
    "\n",
    "- It influences how you interpret and communicate the results. Depending on the level of measurement, you may describe data in terms of categories, ranks, or measurements.\n",
    "\n",
    "\n",
    "- Example: When describing the results of a survey question with nominal data (e.g., \"What is your preferred mode of transportation?\"), you would talk in terms of the percentage of respondents who selected each category (e.g., 40% chose \"car,\" 30% chose \"bicycle,\" etc.).\n",
    "\n",
    "\n",
    "In summary, understanding the level of measurement ensures that you choose appropriate analytical techniques, interpret results correctly, and make informed decisions based on your data. Failing to consider the level of measurement can lead to erroneous conclusions and potentially misinformed actions. It's an essential aspect of data analysis and research."
   ]
  },
  {
   "cell_type": "markdown",
   "metadata": {},
   "source": [
    "### Q.7. How nominal data type is different from ordinal data type."
   ]
  },
  {
   "cell_type": "markdown",
   "metadata": {},
   "source": [
    "1. Order: \n",
    "\n",
    "\n",
    "- The most significant difference is the presence of order in ordinal data, which is absent in nominal data. In nominal data, categories are unordered.\n",
    "\n",
    "\n",
    "2. Ranking: \n",
    "\n",
    "\n",
    "- In ordinal data, you can rank categories in terms of their order. For example, you can say that \"high income\" is higher than \"middle income.\" In nominal data, no such ranking exists.\n",
    "\n",
    "\n",
    "3. Arithmetic Operations: \n",
    "\n",
    "\n",
    "- Arithmetic operations (addition, subtraction, multiplication, division) are not meaningful for either nominal or ordinal data. However, you can compare ordinal data in terms of rank.\n",
    "\n",
    "\n",
    "4. Examples: \n",
    "\n",
    "\n",
    "- While both nominal and ordinal data use categories, the choice of which to use depends on whether you need to express order and ranking. If order is not important, nominal data are used. If order is significant but precise measurement is not possible, ordinal data are used."
   ]
  },
  {
   "cell_type": "markdown",
   "metadata": {},
   "source": [
    "### Q.8. Which type of plot can be used to display data in terms of range?"
   ]
  },
  {
   "cell_type": "markdown",
   "metadata": {},
   "source": [
    "To display data in terms of range, you can use a box plot (also known as a box-and-whisker plot). A box plot is particularly useful for visualizing the distribution of data, including the range, quartiles, median, and potential outliers. It provides a concise summary of the data's central tendency and spread."
   ]
  },
  {
   "cell_type": "markdown",
   "metadata": {},
   "source": [
    "### Q.9. Describe the difference between descriptive and inferential statistics. Give an example of each type of statistics and explain how they are used."
   ]
  },
  {
   "cell_type": "markdown",
   "metadata": {},
   "source": [
    "1. Descriptive Statistics:\n",
    "    \n",
    "\n",
    "- Purpose: \n",
    "\n",
    "\n",
    "Descriptive statistics are used to summarize, organize, and present data in a meaningful and easily understandable way. They provide a concise overview of the main features and characteristics of a dataset without making inferences beyond the data at hand.\n",
    "\n",
    "\n",
    "- Example: \n",
    "\n",
    "\n",
    "One common example of descriptive statistics is calculating the mean (average) and standard deviation of test scores for a group of students. This allows you to understand the central tendency and the spread of scores within the group. You might also create histograms, bar charts, or box plots to visualize the distribution of scores.\n",
    "\n",
    "- Use: \n",
    "\n",
    "\n",
    "Descriptive statistics help in data exploration and summarization. They are valuable for reporting and presenting data, making it more accessible to a wide audience. Descriptive statistics do not draw conclusions or make predictions beyond the data under consideration.\n",
    "\n",
    "\n",
    "2. Inferential Statistics:\n",
    "\n",
    "\n",
    "- Purpose: \n",
    "\n",
    "\n",
    "Inferential statistics are used to make inferences, predictions, and generalizations about a larger population based on a sample of data. These methods use probability theory and statistical techniques to draw conclusions about a population from a subset of that population (the sample).\n",
    "\n",
    "\n",
    "- Example: \n",
    "\n",
    "\n",
    "Suppose you want to determine whether a new teaching method improves student performance. You might collect test scores from a sample of students using the new method and a control group using the traditional method. Inferential statistics, such as a t-test or analysis of variance (ANOVA), could help you determine if there is a statistically significant difference in performance between the two groups, allowing you to infer whether the new method is effective for the larger population of students.\n",
    "\n",
    "\n",
    "- Use: \n",
    "\n",
    "\n",
    "Inferential statistics are essential when you want to generalize findings from a sample to a larger population. They provide a way to draw conclusions with a certain level of confidence, assess the significance of relationships, and make predictions about future outcomes.\n",
    "\n",
    "\n",
    "In summary, descriptive statistics are used to summarize and present data in a clear and understandable manner, while inferential statistics are used to make inferences, draw conclusions, and generalize findings about a larger population based on data from a sample. Both types of statistics play crucial roles in the field of data analysis and are employed in various scientific, research, and decision-making contexts."
   ]
  },
  {
   "cell_type": "markdown",
   "metadata": {},
   "source": [
    "### Q.10. What are some common measures of central tendency and variability used in statistics? Explain how each measure can be used to describe a dataset."
   ]
  },
  {
   "cell_type": "markdown",
   "metadata": {},
   "source": [
    "Measures of central tendency and variability are fundamental in statistics for summarizing and understanding datasets.\n",
    "\n",
    "Measure of Central Tendency :\n",
    "\n",
    "1. Mean (Average): The mean is the sum of all values in a dataset divided by the number of values. It represents the \"typical\" value in a dataset.\n",
    "\n",
    "\n",
    "- Use:  The mean is useful for describing the typical value of a dataset. It is sensitive to extreme values and is commonly used for normally distributed data.\n",
    "\n",
    "\n",
    "2. Median(Midpoint):  The median is the middle value when the data is arranged in ascending or descending order. It's the value that divides the dataset into two equal halves.\n",
    "\n",
    "\n",
    "- Use: The median is a robust measure of central tendency, meaning it's not influenced by extreme values. It's useful when the data includes outliers or is not normally distributed.\n",
    "\n",
    "\n",
    "3. Mode(Most Common Value): The mode is the value that appears most frequently in the dataset.\n",
    "\n",
    "\n",
    "- Use: The mode helps to identify the most common value or category in a dataset. It is used with categorical and nominal data.\n",
    "\n",
    "\n",
    "Measures of Variability :\n",
    "\n",
    "1. Range: The range is the difference between the maximum and minimum values in a dataset.\n",
    "\n",
    "\n",
    "- Use: The range provides a simple measure of the spread of data, but it can be sensitive to outliers.\n",
    "\n",
    "\n",
    "2. Variance: Variance measures the average of the squared differences between each data point and the mean. Variance is the measure of how notably a collection of data is spread out.\n",
    "\n",
    "\n",
    "- Use: Variance quantifies the spread of data points around the mean. It's used for interval and ratio data.\n",
    "\n",
    "\n",
    "3. Standard Deviation: The standard deviation is the square root of the variance. It represents the average distance of data points from the mean. Standard deviation indicates a typical deviation from the mean. Basically standard deviation is a measure of how spread out data points are. \n",
    "\n",
    "\n",
    "- Use: Standard deviation provides a measure of data dispersion. It's used with interval and ratio data and is often preferred because it's in the same units as the data.\n",
    "\n",
    "\n",
    "4. Interquartile Range (IQR): The IQR is the range of values between the 25th percentile (Q1) and the 75th percentile (Q3).\n",
    "\n",
    "\n",
    "- Use: The IQR is robust to outliers and provides a measure of the spread within the middle 50% of the data. It is used in box plots and for detecting skewness.\n",
    "\n",
    "\n",
    "5. Coefficient of Variation (CV): The CV is the ratio of the standard deviation to the mean, expressed as a percentage.\n",
    "\n",
    "\n",
    "- Use: The CV is used to compare the relative variability of datasets with different units or scales. It helps in assessing the relative risk or stability of different investments, for example.\n",
    "\n",
    "\n",
    "These measures are important for understanding the characteristics of data, making comparisons, and making informed decisions. The choice of which measures to use depends on the type of data (nominal, ordinal, interval, ratio) and the specific goals of the analysis. Different measures can provide different insights into the dataset's central tendency and variability."
   ]
  },
  {
   "cell_type": "code",
   "execution_count": null,
   "metadata": {},
   "outputs": [],
   "source": []
  }
 ],
 "metadata": {
  "kernelspec": {
   "display_name": "Python 3",
   "language": "python",
   "name": "python3"
  },
  "language_info": {
   "codemirror_mode": {
    "name": "ipython",
    "version": 3
   },
   "file_extension": ".py",
   "mimetype": "text/x-python",
   "name": "python",
   "nbconvert_exporter": "python",
   "pygments_lexer": "ipython3",
   "version": "3.7.6"
  }
 },
 "nbformat": 4,
 "nbformat_minor": 4
}
