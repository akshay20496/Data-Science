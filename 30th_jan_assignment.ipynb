{
 "cells": [
  {
   "cell_type": "markdown",
   "metadata": {},
   "source": [
    "1. Write a program to accept percentage from the user display the grade according to the given criteria.\n",
    "\n",
    "percentage > 90 then grade A\n",
    "\n",
    "80 < percentage <= 90 then grade B \n",
    "\n",
    "60 <= percentage <= 80 then grade C\n",
    "\n",
    "percentage < 60 then grade D"
   ]
  },
  {
   "cell_type": "code",
   "execution_count": 4,
   "metadata": {},
   "outputs": [
    {
     "name": "stdout",
     "output_type": "stream",
     "text": [
      "Enter the percentage of the student: 55\n",
      "The grade of the student is D\n"
     ]
    }
   ],
   "source": [
    "percentage = int(input(\"Enter the percentage of the student: \"))\n",
    "grade = [\"A\", \"B\", \"C\", \"D\"]\n",
    "if percentage > 90:\n",
    "    print(\"The grade of the student is {}\".format(grade[0]))\n",
    "elif 80 < percentage <= 90:\n",
    "    print(f\"The grade of the student is {grade[1]}\")\n",
    "elif 60 <= percentage <= 80:\n",
    "    print(\"The grade of the student is {}\".format(grade[2]))\n",
    "else:\n",
    "    print(f\"The grade of the student is {grade[3]}\")"
   ]
  },
  {
   "cell_type": "markdown",
   "metadata": {},
   "source": [
    "2. Write a program to accept the cost price of a bike and display the road tax to be paid according to the given criteria.\n",
    "\n",
    "cost price > 100000 then road tax is 15%\n",
    "\n",
    "50000 < cost price <= 100000 then road tax is 10%\n",
    "\n",
    "cost price <= 50000 then road tax is 5%"
   ]
  },
  {
   "cell_type": "code",
   "execution_count": 7,
   "metadata": {},
   "outputs": [
    {
     "name": "stdout",
     "output_type": "stream",
     "text": [
      "Enter the cost price of a bike: 50000\n",
      "Road tax paid by biker is 2500.0\n"
     ]
    }
   ],
   "source": [
    "cost_price = int(input(\"Enter the cost price of a bike: \"))\n",
    "if cost_price > 100000:\n",
    "    print(\"Road tax paid by biker is \", cost_price*0.15)\n",
    "elif 50000 < cost_price <= 100000:\n",
    "    print(f\"Road tax paid by biker is {0.1*cost_price}\")\n",
    "else:\n",
    "    print(\"Road tax paid by biker is {}\".format(cost_price*0.05))"
   ]
  },
  {
   "cell_type": "markdown",
   "metadata": {},
   "source": [
    "3. Accept any city from the user and display monuments of that city.\n",
    "\n",
    "city - Delhi Monument - Red Fort\n",
    "\n",
    "city - Agra  Monument - Taj Mahal\n",
    "\n",
    "city - Jaipur Monument- Jal Mahal"
   ]
  },
  {
   "cell_type": "code",
   "execution_count": 16,
   "metadata": {},
   "outputs": [
    {
     "name": "stdout",
     "output_type": "stream",
     "text": [
      "Enter the name of the city: Mumbai\n",
      "The monument present in this Mumbai is not known\n"
     ]
    }
   ],
   "source": [
    "city = input(\"Enter the name of the city: \")\n",
    "if city == \"Delhi\":\n",
    "    print(\"The monument present in {} is {}\".format(city, \"Red Fort\"))\n",
    "elif city == \"Agra\":\n",
    "    print(\"The monument present in {} is {}\".format(city, \"Taj Mahal\"))\n",
    "elif city == \"Jaipur\":\n",
    "    print(\"The monument present in {} is {}\".format(city, \"Jal Mahal\"))\n",
    "else:\n",
    "    print(\"The monument present in this {} is not known\".format(city))"
   ]
  },
  {
   "cell_type": "code",
   "execution_count": 17,
   "metadata": {},
   "outputs": [
    {
     "name": "stdout",
     "output_type": "stream",
     "text": [
      "The monument present in  Delhi is Red Fort\n",
      "The monument present in  Agra is Taj Mahal\n",
      "The monument present in  Jaipur is Jal Mahal\n"
     ]
    }
   ],
   "source": [
    "city = [\"Delhi\", \"Agra\", \"Jaipur\"]\n",
    "\n",
    "for i in city:\n",
    "    if i == \"Delhi\":\n",
    "        print(\"The monument present in \",i,\"is {}\".format(\"Red Fort\"))\n",
    "    elif i == \"Agra\":\n",
    "        print(\"The monument present in \",i,\"is {}\".format(\"Taj Mahal\"))\n",
    "    else:\n",
    "        print(\"The monument present in \",i,\"is {}\".format(\"Jal Mahal\"))"
   ]
  },
  {
   "cell_type": "code",
   "execution_count": 18,
   "metadata": {},
   "outputs": [
    {
     "name": "stdout",
     "output_type": "stream",
     "text": [
      "The monument present in Delhi is Red Fort\n",
      "The monument present in Agra is Taj Mahal\n",
      "The monument present in Jaipur is Jaipur\n"
     ]
    }
   ],
   "source": [
    "city = [\"Delhi\", \"Agra\", \"Jaipur\"]\n",
    "monuments = [\"Red Fort\",\"Taj Mahal\",\"Jaipur\"]\n",
    "\n",
    "for i in range(len(city)):\n",
    "    for j in range(len(monuments)):\n",
    "        if i == j:\n",
    "            print(\"The monument present in {} is {}\".format(city[i], monuments[j]))\n",
    "    "
   ]
  },
  {
   "cell_type": "markdown",
   "metadata": {},
   "source": [
    "4. Check how many times the given number can be divided by 3 before it is less than or equal to 10."
   ]
  },
  {
   "cell_type": "code",
   "execution_count": 7,
   "metadata": {},
   "outputs": [
    {
     "name": "stdout",
     "output_type": "stream",
     "text": [
      "Enter the number divisible by 3: 729\n",
      "[243.0, 81.0, 27.0, 9.0]\n",
      "The given number 729.0 is 4 times divided by 3 before it is less than or equal to 10\n"
     ]
    }
   ],
   "source": [
    "n = int(input(\"Enter the number divisible by 3: \"))\n",
    "lst = []\n",
    "\n",
    "while n % 3 == 0:\n",
    "    if n >= 10:\n",
    "        n = n/3\n",
    "        lst.append(n)\n",
    "    else: \n",
    "        break\n",
    "print(lst)\n",
    "\n",
    "print(\"The given number {} is {} times divided by 3 before it is less than or equal to 10\".format(n*(3**(len(lst))), len(lst)))"
   ]
  },
  {
   "cell_type": "markdown",
   "metadata": {},
   "source": [
    "5. Why and when use while loop in python give a detailed description with example.\n",
    "\n",
    "answer :-  A While loop in Python allows a part of the code to be executed repeatedly as long as a given condition is true. The While loop in Python is also called a pre-tested loop. It is typically used when the number of iterations is not known.\n",
    "\n",
    "A Python While loop expression/condition consists of three parts:\n",
    "\n",
    "- A piece of code that needs to be repeated over and over\n",
    "\n",
    "- The while keyword\n",
    "\n",
    "- A condition that translates to either True or False\n",
    "\n",
    "Explanation :-\n",
    "\n",
    "- In Python, the test condition/expression will be checked first. If the condition holds True, the body of the loop will be entered.\n",
    "\n",
    "- After one iteration, it will check the condition again.\n",
    "\n",
    "- The process will continue until the condition becomes False.\n",
    "\n",
    "- The expression should be any valid Python expression that results in True or False. False is 0 while True is any non-zero value.\n",
    "\n",
    "- The while loop body begins with an indentation while the first un-indented line represents the end of the while loop."
   ]
  },
  {
   "cell_type": "code",
   "execution_count": 10,
   "metadata": {},
   "outputs": [
    {
     "name": "stdout",
     "output_type": "stream",
     "text": [
      "1\n",
      "2\n",
      "3\n",
      "4\n",
      "5\n"
     ]
    }
   ],
   "source": [
    "# Example \n",
    "\n",
    "i = 1\n",
    "\n",
    "while i <= 5:\n",
    "    print(i)\n",
    "    i = i + 1\n",
    "    "
   ]
  },
  {
   "cell_type": "markdown",
   "metadata": {},
   "source": [
    " In above example we are using while loop. We put the value of i is one and we put the condition in while loop that if (i <= 5) then we are printing i and in while loop we are incrementing the value of i by 1. So we get the output upto 5. So when i=6 then shile loop condition is false and we are out of the while loop. "
   ]
  },
  {
   "cell_type": "code",
   "execution_count": null,
   "metadata": {},
   "outputs": [],
   "source": []
  },
  {
   "cell_type": "markdown",
   "metadata": {},
   "source": [
    "6. Use nested while loop to print 3 different patterns."
   ]
  },
  {
   "cell_type": "code",
   "execution_count": 13,
   "metadata": {},
   "outputs": [
    {
     "name": "stdout",
     "output_type": "stream",
     "text": [
      "Enter the number: 4\n",
      "* \n",
      "* * \n",
      "* * * \n",
      "* * * * \n"
     ]
    }
   ],
   "source": [
    "n = int(input(\"Enter the number: \"))\n",
    "i = 1\n",
    "while i <= n:\n",
    "    j=1\n",
    "    while j <= i:\n",
    "        print(\"*\", end =\" \")\n",
    "        j = j + 1\n",
    "    print(\"\\r\")\n",
    "    i = i + 1"
   ]
  },
  {
   "cell_type": "code",
   "execution_count": 14,
   "metadata": {},
   "outputs": [
    {
     "name": "stdout",
     "output_type": "stream",
     "text": [
      "Enter the number: 5\n",
      "* * * * * \n",
      "* * * * \n",
      "* * * \n",
      "* * \n",
      "* \n"
     ]
    }
   ],
   "source": [
    "n = int(input(\"Enter the number: \"))\n",
    "i = 1\n",
    "while i <= n:\n",
    "    j = n\n",
    "    while j >= i:\n",
    "        print(\"*\", end = \" \")\n",
    "        j = j - 1\n",
    "    print(\"\\r\")\n",
    "    i = i + 1"
   ]
  },
  {
   "cell_type": "code",
   "execution_count": 18,
   "metadata": {},
   "outputs": [
    {
     "name": "stdout",
     "output_type": "stream",
     "text": [
      "Enter the number: 5\n",
      "1 \n",
      "1 2 \n",
      "1 2 3 \n",
      "1 2 3 4 \n",
      "1 2 3 4 5 \n"
     ]
    }
   ],
   "source": [
    "n = int(input(\"Enter the number: \"))\n",
    "i = 1\n",
    "while i <= n:\n",
    "    j = 1\n",
    "    while j <= i:\n",
    "        print(j, end = \" \")\n",
    "        j = j + 1\n",
    "    print(\"\\r\")\n",
    "    i = i + 1"
   ]
  },
  {
   "cell_type": "code",
   "execution_count": 32,
   "metadata": {},
   "outputs": [
    {
     "name": "stdout",
     "output_type": "stream",
     "text": [
      "Enter the number: 5\n",
      "1 \n",
      "2 3 \n",
      "4 5 6 \n",
      "7 8 9 10 \n",
      "11 12 13 14 15 \n"
     ]
    }
   ],
   "source": [
    "n = int(input(\"Enter the number: \"))\n",
    "i = 1\n",
    "k = 1\n",
    "while i <= n:\n",
    "    j = 1\n",
    "    while j <= i:\n",
    "        print(k, end = \" \")\n",
    "        j = j + 1\n",
    "        k = k + 1\n",
    "    print(\"\\r\")\n",
    "    i = i + 1"
   ]
  },
  {
   "cell_type": "code",
   "execution_count": 35,
   "metadata": {},
   "outputs": [
    {
     "name": "stdout",
     "output_type": "stream",
     "text": [
      "Enter the number: 5\n",
      "  1 \n",
      "  2   3 \n",
      "  4   5   6 \n",
      "  7   8   9  10 \n",
      " 11  12  13  14  15 \n"
     ]
    }
   ],
   "source": [
    "n = int(input(\"Enter the number: \"))\n",
    "i = 1\n",
    "k = 1\n",
    "while i <= n:\n",
    "    j = 1\n",
    "    while j <= i:\n",
    "        print(\"{:3}\".format(k), end = \" \")\n",
    "        j = j + 1\n",
    "        k = k + 1\n",
    "    print(\"\\r\")\n",
    "    i = i + 1"
   ]
  },
  {
   "cell_type": "markdown",
   "metadata": {},
   "source": [
    "7. Reverse a while loop to display numbers from 10 to 1."
   ]
  },
  {
   "cell_type": "code",
   "execution_count": 36,
   "metadata": {
    "scrolled": true
   },
   "outputs": [
    {
     "name": "stdout",
     "output_type": "stream",
     "text": [
      "10\n",
      "9\n",
      "8\n",
      "7\n",
      "6\n",
      "5\n",
      "4\n",
      "3\n",
      "2\n",
      "1\n"
     ]
    }
   ],
   "source": [
    "i = 10\n",
    "while i > 0:\n",
    "    print(i)\n",
    "    i = i - 1"
   ]
  },
  {
   "cell_type": "code",
   "execution_count": null,
   "metadata": {},
   "outputs": [],
   "source": []
  }
 ],
 "metadata": {
  "kernelspec": {
   "display_name": "Python 3",
   "language": "python",
   "name": "python3"
  },
  "language_info": {
   "codemirror_mode": {
    "name": "ipython",
    "version": 3
   },
   "file_extension": ".py",
   "mimetype": "text/x-python",
   "name": "python",
   "nbconvert_exporter": "python",
   "pygments_lexer": "ipython3",
   "version": "3.7.6"
  }
 },
 "nbformat": 4,
 "nbformat_minor": 4
}
